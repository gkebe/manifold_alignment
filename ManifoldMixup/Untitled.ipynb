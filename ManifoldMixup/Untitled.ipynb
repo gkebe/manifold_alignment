{
 "cells": [
  {
   "cell_type": "code",
   "execution_count": 1,
   "metadata": {},
   "outputs": [],
   "source": [
    "import torch\n",
    "import torch.nn as nn\n",
    "from torch.utils.data import Dataset, DataLoader\n",
    "from torchvision.datasets import MNIST\n",
    "from torchvision.transforms import ToTensor\n",
    "import numpy as np\n",
    "import copy\n",
    "from torched.customs.layers import LinearLayer, Flatten\n",
    "from torched.trainer_utils import Train\n",
    "from manifold_mixup import ManifoldMixupDataset, ManifoldMixupModel, ManifoldMixupLoss\n",
    "from adversarial_attacks import FGSM\n",
    "from interpolated_adversarial import InterpolatedAdversarialLoss"
   ]
  },
  {
   "cell_type": "code",
   "execution_count": 2,
   "metadata": {
    "code_folding": []
   },
   "outputs": [],
   "source": [
    "class Model(nn.Module):\n",
    "    def __init__(self, in_dims, hid_dims, out_dims):\n",
    "        super(Model, self).__init__()\n",
    "        self.m = nn.Sequential(Flatten(),\n",
    "                              LinearLayer(in_dims, hid_dims, use_bn=True),\n",
    "                              LinearLayer(hid_dims, hid_dims, use_bn=True),\n",
    "                              LinearLayer(hid_dims, hid_dims, use_bn=True),\n",
    "                              nn.Linear(hid_dims, out_dims))\n",
    "    def forward(self, x):\n",
    "        return self.m(x)"
   ]
  },
  {
   "cell_type": "code",
   "execution_count": 3,
   "metadata": {},
   "outputs": [],
   "source": [
    "trn_ds = MNIST('../GoldLossCorrection/data/', train=True, download=True, transform=ToTensor())\n",
    "val_ds = MNIST('../GoldLossCorrection/data/', train=False, download=True, transform=ToTensor())"
   ]
  },
  {
   "cell_type": "code",
   "execution_count": 4,
   "metadata": {},
   "outputs": [],
   "source": [
    "model = Model(784, 100, 10)\n",
    "criterion = nn.CrossEntropyLoss()"
   ]
  },
  {
   "cell_type": "code",
   "execution_count": 5,
   "metadata": {},
   "outputs": [],
   "source": [
    "trn_ds = ManifoldMixupDataset(trn_ds)\n",
    "val_ds = ManifoldMixupDataset(val_ds)\n",
    "trn_dl = DataLoader(trn_ds, batch_size=32, shuffle=True)\n",
    "val_dl = DataLoader(val_ds, batch_size=32, shuffle=False)\n",
    "mixup_model = ManifoldMixupModel(model, alpha=0.2)\n",
    "mixup_criterion = ManifoldMixupLoss(criterion)"
   ]
  },
  {
   "cell_type": "code",
   "execution_count": 6,
   "metadata": {},
   "outputs": [],
   "source": [
    "trainer = Train(mixup_model, [trn_dl, val_dl], cuda=False)"
   ]
  },
  {
   "cell_type": "code",
   "execution_count": 17,
   "metadata": {},
   "outputs": [
    {
     "name": "stderr",
     "output_type": "stream",
     "text": [
      "Train Loss 1.990781:  49%|████▉     | 920/1875 [00:20<00:21, 45.19it/s]\n"
     ]
    }
   ],
   "source": [
    "trainer.lr_find(crit=mixup_criterion)"
   ]
  },
  {
   "cell_type": "code",
   "execution_count": 24,
   "metadata": {},
   "outputs": [
    {
     "data": {
      "image/png": "[encoded data removed]",
      "text/plain": [
       "<Figure size 432x288 with 1 Axes>"
      ]
     },
     "metadata": {
      "needs_background": "light"
     },
     "output_type": "display_data"
    }
   ],
   "source": [
    "trainer.plot_lrs()"
   ]
  },
  {
   "cell_type": "code",
   "execution_count": 7,
   "metadata": {},
   "outputs": [
    {
     "data": {
      "application/vnd.jupyter.widget-view+json": {
       "model_id": "8014bf4174dd4d38bd1c484879467bcd",
       "version_major": 2,
       "version_minor": 0
      },
      "text/plain": [
       "HBox(children=(IntProgress(value=0, max=7), HTML(value='')))"
      ]
     },
     "metadata": {},
     "output_type": "display_data"
    },
    {
     "name": "stderr",
     "output_type": "stream",
     "text": [
      "Train Loss 1.852755: 100%|██████████| 1875/1875 [00:45<00:00, 40.94it/s]\n",
      "Valid Loss 1.743254: 100%|██████████| 313/313 [00:04<00:00, 74.37it/s]\n",
      "Train Loss 1.768389: 100%|██████████| 1875/1875 [00:33<00:00, 55.52it/s]\n",
      "Valid Loss 1.731064: 100%|██████████| 313/313 [00:03<00:00, 89.16it/s]\n",
      "Train Loss 1.736815: 100%|██████████| 1875/1875 [00:36<00:00, 50.84it/s]\n",
      "Valid Loss 1.680081: 100%|██████████| 313/313 [00:03<00:00, 93.59it/s] \n",
      "Train Loss 1.728195: 100%|██████████| 1875/1875 [00:36<00:00, 51.43it/s]\n",
      "Valid Loss 1.699023: 100%|██████████| 313/313 [00:04<00:00, 75.27it/s]\n",
      "Train Loss 1.730177: 100%|██████████| 1875/1875 [00:46<00:00, 40.12it/s]\n",
      "Valid Loss 1.591920: 100%|██████████| 313/313 [00:04<00:00, 74.33it/s]\n",
      "Train Loss 1.723791: 100%|██████████| 1875/1875 [00:47<00:00, 39.81it/s]\n",
      "Valid Loss 1.757235: 100%|██████████| 313/313 [00:04<00:00, 72.90it/s]\n",
      "Train Loss 1.743135: 100%|██████████| 1875/1875 [00:44<00:00, 41.68it/s]\n",
      "Valid Loss 1.607809: 100%|██████████| 313/313 [00:04<00:00, 74.46it/s]"
     ]
    },
    {
     "name": "stdout",
     "output_type": "stream",
     "text": [
      "\n"
     ]
    },
    {
     "name": "stderr",
     "output_type": "stream",
     "text": [
      "\n"
     ]
    }
   ],
   "source": [
    "trainer.train(1e-4, 3, 2, crit=mixup_criterion)"
   ]
  },
  {
   "cell_type": "code",
   "execution_count": 8,
   "metadata": {},
   "outputs": [],
   "source": [
    "model = trainer.model.model"
   ]
  },
  {
   "cell_type": "code",
   "execution_count": 9,
   "metadata": {},
   "outputs": [],
   "source": [
    "def epoch(loader, model, opt=None):\n",
    "    \"\"\"Standard training/evaluation epoch over the dataset\"\"\"\n",
    "    total_loss, total_err = 0.,0.\n",
    "    for X,y in loader:\n",
    "        X,y = X, y\n",
    "        yp = model(X)\n",
    "        loss = nn.CrossEntropyLoss()(yp,y)\n",
    "        if opt:\n",
    "            opt.zero_grad()\n",
    "            loss.backward()\n",
    "            opt.step()\n",
    "        \n",
    "        total_err += (yp.max(dim=1)[1] != y).sum().item()\n",
    "        total_loss += loss.item() * X.shape[0]\n",
    "    return total_err / len(loader.dataset), total_loss / len(loader.dataset)"
   ]
  },
  {
   "cell_type": "code",
   "execution_count": 10,
   "metadata": {},
   "outputs": [],
   "source": [
    "val_dl = DataLoader(MNIST('../GoldLossCorrection/data/', download=True, train=False, \n",
    "                         transform=ToTensor()), batch_size=32, shuffle=False)"
   ]
  },
  {
   "cell_type": "code",
   "execution_count": 11,
   "metadata": {},
   "outputs": [],
   "source": [
    "err, loss = epoch(val_dl, model)"
   ]
  },
  {
   "cell_type": "code",
   "execution_count": 12,
   "metadata": {},
   "outputs": [
    {
     "data": {
      "text/plain": [
       "0.9536"
      ]
     },
     "execution_count": 12,
     "metadata": {},
     "output_type": "execute_result"
    }
   ],
   "source": [
    "1 - err"
   ]
  },
  {
   "cell_type": "code",
   "execution_count": 13,
   "metadata": {},
   "outputs": [],
   "source": [
    "model = Model(784, 100, 10)\n",
    "mixup_model = ManifoldMixupModel(model, alpha=2.0, interpolation_adv=True)\n",
    "trn_ds = MNIST('../GoldLossCorrection/data/', train=True, download=True, transform=ToTensor())\n",
    "val_ds = MNIST('../GoldLossCorrection/data/', train=False, download=True, transform=ToTensor())\n",
    "trn_ds = ManifoldMixupDataset(trn_ds)\n",
    "val_ds = ManifoldMixupDataset(val_ds)\n",
    "trn_dl = DataLoader(trn_ds, batch_size=32, shuffle=True)\n",
    "val_dl = DataLoader(val_ds, batch_size=32, shuffle=False)\n",
    "fgsm = FGSM(nn.CrossEntropyLoss())\n",
    "criterion = InterpolatedAdversarialLoss(nn.CrossEntropyLoss(), fgsm)"
   ]
  },
  {
   "cell_type": "code",
   "execution_count": 14,
   "metadata": {},
   "outputs": [],
   "source": [
    "trainer = Train(mixup_model, [trn_dl, val_dl], cuda=False)"
   ]
  },
  {
   "cell_type": "code",
   "execution_count": 15,
   "metadata": {},
   "outputs": [
    {
     "name": "stderr",
     "output_type": "stream",
     "text": [
      "Train Loss 2.280040:  78%|███████▊  | 1467/1875 [00:52<00:14, 27.95it/s]\n"
     ]
    }
   ],
   "source": [
    "trainer.lr_find(crit=criterion)"
   ]
  },
  {
   "cell_type": "code",
   "execution_count": 29,
   "metadata": {},
   "outputs": [
    {
     "data": {
      "image/png": "[encoded data removed]",
      "text/plain": [
       "<Figure size 432x288 with 1 Axes>"
      ]
     },
     "metadata": {
      "needs_background": "light"
     },
     "output_type": "display_data"
    }
   ],
   "source": [
    "trainer.plot_lrs()"
   ]
  },
  {
   "cell_type": "code",
   "execution_count": 40,
   "metadata": {},
   "outputs": [
    {
     "data": {
      "application/vnd.jupyter.widget-view+json": {
       "model_id": "3a8612db59a44719a089ba0fb6807a35",
       "version_major": 2,
       "version_minor": 0
      },
      "text/plain": [
       "HBox(children=(IntProgress(value=0, max=13), HTML(value='')))"
      ]
     },
     "metadata": {},
     "output_type": "display_data"
    },
    {
     "name": "stderr",
     "output_type": "stream",
     "text": [
      "Train Loss 2.108026: 100%|██████████| 1875/1875 [01:12<00:00, 25.97it/s]\n",
      "Valid Loss 2.023945: 100%|██████████| 313/313 [00:08<00:00, 36.15it/s]\n",
      "Train Loss 1.989163: 100%|██████████| 1875/1875 [01:12<00:00, 25.99it/s]\n",
      "Valid Loss 1.954684: 100%|██████████| 313/313 [00:08<00:00, 35.76it/s]\n",
      "Train Loss 1.944344: 100%|██████████| 1875/1875 [01:23<00:00, 22.57it/s]\n",
      "Valid Loss 1.914985: 100%|██████████| 313/313 [00:10<00:00, 31.13it/s]\n",
      "Train Loss 1.922503: 100%|██████████| 1875/1875 [01:11<00:00, 26.41it/s]\n",
      "Valid Loss 1.929143: 100%|██████████| 313/313 [00:06<00:00, 48.54it/s]\n",
      "Train Loss 1.919442: 100%|██████████| 1875/1875 [01:03<00:00, 29.47it/s]\n",
      "Valid Loss 1.900756: 100%|██████████| 313/313 [00:08<00:00, 34.86it/s]\n",
      "Train Loss 1.891341: 100%|██████████| 1875/1875 [01:16<00:00, 24.43it/s]\n",
      "Valid Loss 1.874918: 100%|██████████| 313/313 [00:11<00:00, 26.56it/s]\n",
      "Train Loss 1.877047: 100%|██████████| 1875/1875 [01:20<00:00, 23.22it/s]\n",
      "Valid Loss 1.876813: 100%|██████████| 313/313 [00:09<00:00, 34.33it/s]\n",
      "Train Loss 1.858416: 100%|██████████| 1875/1875 [01:14<00:00, 25.07it/s]\n",
      "Valid Loss 1.829736: 100%|██████████| 313/313 [00:09<00:00, 33.54it/s]\n",
      "Train Loss 1.844593: 100%|██████████| 1875/1875 [01:15<00:00, 24.94it/s]\n",
      "Valid Loss 1.847555: 100%|██████████| 313/313 [00:09<00:00, 33.70it/s]\n",
      "Train Loss 1.839843: 100%|██████████| 1875/1875 [01:18<00:00, 23.87it/s]\n",
      "Valid Loss 1.818212: 100%|██████████| 313/313 [00:09<00:00, 32.10it/s]\n",
      "Train Loss 1.840912: 100%|██████████| 1875/1875 [01:18<00:00, 24.00it/s]\n",
      "Valid Loss 1.821071: 100%|██████████| 313/313 [00:09<00:00, 33.33it/s]\n",
      "Train Loss 1.832628: 100%|██████████| 1875/1875 [01:16<00:00, 24.64it/s]\n",
      "Valid Loss 1.814510: 100%|██████████| 313/313 [00:09<00:00, 32.23it/s]\n",
      "Train Loss 1.817711: 100%|██████████| 1875/1875 [01:17<00:00, 24.05it/s]\n",
      "Valid Loss 1.850090: 100%|██████████| 313/313 [00:09<00:00, 32.68it/s]"
     ]
    },
    {
     "name": "stdout",
     "output_type": "stream",
     "text": [
      "\n"
     ]
    },
    {
     "name": "stderr",
     "output_type": "stream",
     "text": [
      "\n"
     ]
    }
   ],
   "source": [
    "trainer.train(1e-4, 3, 3, crit=criterion)"
   ]
  },
  {
   "cell_type": "code",
   "execution_count": 19,
   "metadata": {},
   "outputs": [],
   "source": [
    "def epoch(loader, model, opt=None):\n",
    "    \"\"\"Standard training/evaluation epoch over the dataset\"\"\"\n",
    "    total_loss, total_err = 0.,0.\n",
    "    for X,y in loader:\n",
    "        X,y = X, y\n",
    "        yp = model(X)\n",
    "        loss = nn.CrossEntropyLoss()(yp,y)\n",
    "        if opt:\n",
    "            opt.zero_grad()\n",
    "            loss.backward()\n",
    "            opt.step()\n",
    "        \n",
    "        total_err += (yp.max(dim=1)[1] != y).sum().item()\n",
    "        total_loss += loss.item() * X.shape[0]\n",
    "    return total_err / len(loader.dataset), total_loss / len(loader.dataset)"
   ]
  },
  {
   "cell_type": "code",
   "execution_count": 20,
   "metadata": {},
   "outputs": [],
   "source": [
    "val_dl = DataLoader(MNIST('../GoldLossCorrection/data/', download=True, train=False, \n",
    "                         transform=ToTensor()), batch_size=32, shuffle=False)"
   ]
  },
  {
   "cell_type": "code",
   "execution_count": 21,
   "metadata": {},
   "outputs": [],
   "source": [
    "err, loss = epoch(val_dl, trainer.model)"
   ]
  },
  {
   "cell_type": "code",
   "execution_count": 22,
   "metadata": {},
   "outputs": [
    {
     "data": {
      "text/plain": [
       "0.9757"
      ]
     },
     "execution_count": 22,
     "metadata": {},
     "output_type": "execute_result"
    }
   ],
   "source": [
    "1 - err"
   ]
  },
  {
   "cell_type": "code",
   "execution_count": 23,
   "metadata": {},
   "outputs": [],
   "source": [
    "def epoch(loader, model, opt=None):\n",
    "    \"\"\"Standard training/evaluation epoch over the dataset\"\"\"\n",
    "    total_loss, total_err = 0.,0.\n",
    "    for n, p in model.named_parameters():\n",
    "        p.requires_grad = False\n",
    "    for X,y in loader:\n",
    "        X,y = X, y\n",
    "        x_adv = fgsm(X, y, model)\n",
    "        yp = model(x_adv)\n",
    "        loss = nn.CrossEntropyLoss()(yp,y)\n",
    "        if opt:\n",
    "            opt.zero_grad()\n",
    "            loss.backward()\n",
    "            opt.step()\n",
    "        \n",
    "        total_err += (yp.max(dim=1)[1] != y).sum().item()\n",
    "        total_loss += loss.item() * X.shape[0]\n",
    "    return total_err / len(loader.dataset), total_loss / len(loader.dataset)"
   ]
  },
  {
   "cell_type": "code",
   "execution_count": 25,
   "metadata": {},
   "outputs": [],
   "source": [
    "err, loss = epoch(val_dl, trainer.model)"
   ]
  },
  {
   "cell_type": "code",
   "execution_count": 26,
   "metadata": {},
   "outputs": [
    {
     "data": {
      "text/plain": [
       "0.006900000000000017"
      ]
     },
     "execution_count": 26,
     "metadata": {},
     "output_type": "execute_result"
    }
   ],
   "source": [
    "1 - err"
   ]
  },
  {
   "cell_type": "code",
   "execution_count": 16,
   "metadata": {},
   "outputs": [],
   "source": [
    "model = Model(784, 100, 10)\n",
    "#mixup_model = ManifoldMixupModel(model, alpha=2.0, interpolation_adv=True)\n",
    "trn_ds = MNIST('../GoldLossCorrection/data/', train=True, download=True, transform=ToTensor())\n",
    "val_ds = MNIST('../GoldLossCorrection/data/', train=False, download=True, transform=ToTensor())\n",
    "#trn_ds = ManifoldMixupDataset(trn_ds)\n",
    "#val_ds = ManifoldMixupDataset(val_ds)\n",
    "trn_dl = DataLoader(trn_ds, batch_size=32, shuffle=True)\n",
    "val_dl = DataLoader(val_ds, batch_size=32, shuffle=False)\n",
    "#fgsm = FGSM(nn.CrossEntropyLoss())\n",
    "#criterion = InterpolatedAdversarialLoss(nn.CrossEntropyLoss(), fgsm)\n",
    "loss = nn.CrossEntropyLoss()"
   ]
  },
  {
   "cell_type": "code",
   "execution_count": 17,
   "metadata": {},
   "outputs": [],
   "source": [
    "trainer = Train(model, [trn_dl, val_dl], cuda=False)"
   ]
  },
  {
   "cell_type": "code",
   "execution_count": 18,
   "metadata": {},
   "outputs": [
    {
     "data": {
      "application/vnd.jupyter.widget-view+json": {
       "model_id": "0945e5426fd44268be08541adb51b0c7",
       "version_major": 2,
       "version_minor": 0
      },
      "text/plain": [
       "HBox(children=(IntProgress(value=0, max=7), HTML(value='')))"
      ]
     },
     "metadata": {},
     "output_type": "display_data"
    },
    {
     "name": "stderr",
     "output_type": "stream",
     "text": [
      "Train Loss 0.701936: 100%|██████████| 1875/1875 [00:31<00:00, 59.73it/s]\n",
      "Valid Loss 0.361141: 100%|██████████| 313/313 [00:02<00:00, 139.89it/s]\n",
      "Train Loss 0.266376: 100%|██████████| 1875/1875 [00:28<00:00, 65.39it/s]\n",
      "Valid Loss 0.151137: 100%|██████████| 313/313 [00:02<00:00, 147.33it/s]\n",
      "Train Loss 0.172114: 100%|██████████| 1875/1875 [00:25<00:00, 72.20it/s]\n",
      "Valid Loss 0.133317: 100%|██████████| 313/313 [00:02<00:00, 142.41it/s]\n",
      "Train Loss 0.152378: 100%|██████████| 1875/1875 [00:25<00:00, 72.83it/s]\n",
      "Valid Loss 0.104230: 100%|██████████| 313/313 [00:01<00:00, 170.22it/s]\n",
      "Train Loss 0.115909: 100%|██████████| 1875/1875 [00:25<00:00, 73.05it/s]\n",
      "Valid Loss 0.092540: 100%|██████████| 313/313 [00:01<00:00, 180.94it/s]\n",
      "Train Loss 0.092680: 100%|██████████| 1875/1875 [00:26<00:00, 71.09it/s]\n",
      "Valid Loss 0.085632: 100%|██████████| 313/313 [00:01<00:00, 175.90it/s]\n",
      "Train Loss 0.083665: 100%|██████████| 1875/1875 [00:26<00:00, 70.32it/s]\n",
      "Valid Loss 0.083911: 100%|██████████| 313/313 [00:02<00:00, 150.90it/s]\n"
     ]
    },
    {
     "name": "stdout",
     "output_type": "stream",
     "text": [
      "\n"
     ]
    }
   ],
   "source": [
    "trainer.train(1e-4, 3, 2, crit=loss)"
   ]
  },
  {
   "cell_type": "code",
   "execution_count": null,
   "metadata": {},
   "outputs": [],
   "source": []
  }
 ],
 "metadata": {
  "kernelspec": {
   "display_name": "Python 3",
   "language": "python",
   "name": "python3"
  },
  "language_info": {
   "codemirror_mode": {
    "name": "ipython",
    "version": 3
   },
   "file_extension": ".py",
   "mimetype": "text/x-python",
   "name": "python",
   "nbconvert_exporter": "python",
   "pygments_lexer": "ipython3",
   "version": "3.6.8"
  }
 },
 "nbformat": 4,
 "nbformat_minor": 2
}
